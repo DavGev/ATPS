{
 "cells": [
  {
   "cell_type": "markdown",
   "id": "8549ac61",
   "metadata": {},
   "source": [
    "# Solution calcuations"
   ]
  },
  {
   "cell_type": "code",
   "execution_count": 2,
   "id": "533b6606",
   "metadata": {},
   "outputs": [],
   "source": [
    "def concentrations(TMAO_f, PEG_f, NaPB_f=0.01, TMAO_i=60, PEG_i=80, NaPB_i=0.5, V=1000):\n",
    "    TMAO = V * TMAO_f/TMAO_i\n",
    "    PEG = V * PEG_f/PEG_i\n",
    "    NaPB = V * NaPB_f/NaPB_i\n",
    "    UP = V - TMAO - PEG - NaPB\n",
    "    print('\\n')\n",
    "    if UP >= 0:\n",
    "        print(\"TMAO:   \", TMAO, \"mcl\")\n",
    "        print(\"PEG-600:\", PEG, \"mcl\")\n",
    "        print(\"UP:     \", UP, \"mcl\")\n",
    "        print(\"NaPB:   \", NaPB, \"mcl\")\n",
    "    else:\n",
    "        TMAO = V * TMAO_f/100\n",
    "        UP = V - TMAO - PEG - NaPB\n",
    "        TMAO = TMAO/1000\n",
    "        print(\"TMAO dry:\", TMAO, \"g\")\n",
    "        print(\"PEG-600: \", PEG, \"mcl\")\n",
    "        print(\"UP:      \", UP, \"mcl\")\n",
    "        print(\"NaPB:    \", NaPB, \"mcl\")"
   ]
  },
  {
   "cell_type": "code",
   "execution_count": 3,
   "id": "f91f5113",
   "metadata": {},
   "outputs": [
    {
     "name": "stdout",
     "output_type": "stream",
     "text": [
      "\n",
      "\n",
      "TMAO:    0.0 mcl\n",
      "PEG-600: 0.0 mcl\n",
      "UP:      980.0 mcl\n",
      "NaPB:    20.0 mcl\n",
      "\n",
      "\n",
      "TMAO:    0.0 mcl\n",
      "PEG-600: 187.5 mcl\n",
      "UP:      792.5 mcl\n",
      "NaPB:    20.0 mcl\n",
      "\n",
      "\n",
      "TMAO:    0.0 mcl\n",
      "PEG-600: 375.0 mcl\n",
      "UP:      605.0 mcl\n",
      "NaPB:    20.0 mcl\n",
      "\n",
      "\n",
      "TMAO:    0.0 mcl\n",
      "PEG-600: 487.5 mcl\n",
      "UP:      492.5 mcl\n",
      "NaPB:    20.0 mcl\n",
      "\n",
      "\n",
      "TMAO:    0.0 mcl\n",
      "PEG-600: 675.0 mcl\n",
      "UP:      305.0 mcl\n",
      "NaPB:    20.0 mcl\n",
      "\n",
      "\n",
      "TMAO:    0.0 mcl\n",
      "PEG-600: 712.5 mcl\n",
      "UP:      267.5 mcl\n",
      "NaPB:    20.0 mcl\n",
      "\n",
      "\n",
      "TMAO:    0.0 mcl\n",
      "PEG-600: 375.0 mcl\n",
      "UP:      115.0 mcl\n",
      "NaPB:    10.0 mcl\n"
     ]
    }
   ],
   "source": [
    "concentrations(TMAO_f=0, PEG_f=0)\n",
    "concentrations(TMAO_f=0, PEG_f=15)\n",
    "concentrations(TMAO_f=0, PEG_f=30)\n",
    "concentrations(TMAO_f=0, PEG_f=39)\n",
    "concentrations(TMAO_f=0, PEG_f=54)\n",
    "concentrations(TMAO_f=0, PEG_f=57)\n",
    "concentrations(TMAO_f=0, PEG_f=60, V=500)"
   ]
  },
  {
   "cell_type": "code",
   "execution_count": null,
   "id": "4dda994b",
   "metadata": {},
   "outputs": [],
   "source": []
  }
 ],
 "metadata": {
  "kernelspec": {
   "display_name": "Python 3 (ipykernel)",
   "language": "python",
   "name": "python3"
  },
  "language_info": {
   "codemirror_mode": {
    "name": "ipython",
    "version": 3
   },
   "file_extension": ".py",
   "mimetype": "text/x-python",
   "name": "python",
   "nbconvert_exporter": "python",
   "pygments_lexer": "ipython3",
   "version": "3.10.1"
  }
 },
 "nbformat": 4,
 "nbformat_minor": 5
}
