{
 "cells": [
  {
   "cell_type": "code",
   "execution_count": 1,
   "metadata": {},
   "outputs": [],
   "source": [
    "import pandas as pd"
   ]
  },
  {
   "cell_type": "code",
   "execution_count": 2,
   "metadata": {},
   "outputs": [],
   "source": [
    "fnames = {\n",
    "    \"wavelength\"              : \"2021-11-24_PEG-TMAO/air.dpt\",\n",
    "    \"air\"                     : \"2021-11-24_PEG-TMAO/air.dpt\",\n",
    "    \"UP\"                      : \"2021-11-24_PEG-TMAO/UP.dpt\",\n",
    "    \"NaPB\"                    : \"2022-01-19_PEG-TMAO/1M NaPB.dpt\",\n",
    "    \"PEG 15%\"                 : \"2022-01-19_PEG-TMAO/15%PEG.dpt\",\n",
    "    \"PEG 30%\"                 : \"2022-01-19_PEG-TMAO/30%PEG.dpt\",\n",
    "    \"PEG 39%\"                 : \"2022-01-19_PEG-TMAO/39%PEG.dpt\",\n",
    "    \"PEG 54%\"                 : \"2022-01-19_PEG-TMAO/54%PEG.dpt\",\n",
    "    \"PEG 57%\"                 : \"2022-01-19_PEG-TMAO/57%PEG.dpt\",\n",
    "    \"PEG 60%\"                 : \"2022-01-19_PEG-TMAO/60%PEG.dpt\",\n",
    "    \"PEG 65%\"                 : \"2022-03-21_PEG-TMAO/PEG 65%.dpt\",\n",
    "    \"PEG 70%\"                 : \"2022-03-21_PEG-TMAO/PEG 70%.dpt\",\n",
    "    \"PEG 75%\"                 : \"2022-03-21_PEG-TMAO/PEG 75%.dpt\",\n",
    "    \"PEG 80%\"                 : \"2021-11-24_PEG-TMAO/80%PEG.dpt\",\n",
    "    \"PEG 85%\"                 : \"2022-03-21_PEG-TMAO/PEG 85%.dpt\",\n",
    "    \"PEG 90%\"                 : \"2022-03-21_PEG-TMAO/PEG 90%.dpt\",\n",
    "    \"PEG 95%\"                 : \"2022-03-21_PEG-TMAO/PEG 95%.dpt\",\n",
    "    \"PEG\"                     : \"2022-02-14_PEG-TMAO/PEG super pure.dpt\",\n",
    "    \"TMAO 5%\"                 : \"2022-01-19_PEG-TMAO/5%TMAO.dpt\",\n",
    "    \"TMAO 10%\"                : \"2022-01-19_PEG-TMAO/10%TMAO.dpt\",\n",
    "    \"TMAO 13%\"                : \"2022-01-19_PEG-TMAO/13%TMAO.dpt\",\n",
    "    \"TMAO 18%\"                : \"2022-01-19_PEG-TMAO/18%TMAO.dpt\",\n",
    "    \"TMAO 19%\"                : \"2022-01-19_PEG-TMAO/19%TMAO.dpt\",\n",
    "    \"TMAO 20%\"                : \"2022-01-19_PEG-TMAO/20%TMAO.dpt\",\n",
    "    \"TMAO 30%\"                : \"2022-03-05_PEG-TMAO/TMAO 30%.dpt\",\n",
    "    \"TMAO 40%\"                : \"2022-03-05_PEG-TMAO/TMAO 40%.dpt\",\n",
    "    \"TMAO 50%\"                : \"2022-03-05_PEG-TMAO/TMAO 50%.dpt\",\n",
    "    \"TMAO 58%\"                : \"2022-03-05_PEG-TMAO/TMAO 58%.dpt\",\n",
    "    \"TMAO 60%\"                : \"2021-11-24_PEG-TMAO/60%TMAO.dpt\",\n",
    "    \"TMAO <75%\"               : \"2022-03-05_PEG-TMAO/TMAO high.dpt\",\n",
    "    \"TMAO\"                    : \"2022-02-16_PEG-TMAO/TMAO.dpt\",\n",
    "    \"TMAO 5%, PEG 15%\"        : \"2021-11-24_PEG-TMAO/5%TMAO, 15%PEG.dpt\",\n",
    "    \"TMAO 10%, PEG 30%\"       : \"2021-11-24_PEG-TMAO/10%TMAO, 30%PEG.dpt\",\n",
    "    \"TMAO 13%, PEG 39%\"       : \"2021-11-24_PEG-TMAO/13%TMAO, 39%PEG.dpt\",\n",
    "    \"TMAO 18%, PEG 54%, down\" : \"2021-11-24_PEG-TMAO/18%TMAO, 54%PEG, down.dpt\",\n",
    "    \"TMAO 18%, PEG 54%, up\"   : \"2022-02-14_PEG-TMAO/TMAO 18%, PEG 54%, up.dpt\",\n",
    "    \"TMAO 19%, PEG 57%, down\" : \"2021-11-24_PEG-TMAO/19%TMAO, 57%PEG, down.dpt\",\n",
    "    \"TMAO 19%, PEG 57%, up\"   : \"2021-11-24_PEG-TMAO/19%TMAO, 57%PEG, up.dpt\",\n",
    "    \"TMAO 20%, PEG 60%, down\" : \"2021-11-24_PEG-TMAO/20%TMAO, 60%PEG, down.dpt\",\n",
    "    \"TMAO 20%, PEG 60%, up\"   : \"2021-11-24_PEG-TMAO/20%TMAO, 60%PEG, up.dpt\"\n",
    "}\n"
   ]
  },
  {
   "cell_type": "code",
   "execution_count": 3,
   "metadata": {},
   "outputs": [],
   "source": [
    "data = pd.DataFrame({\n",
    "    key : pd.read_table(f\"../Data/{fname}\", sep=',', header=None)[0 if key == \"wavelength\" else 1]\n",
    "    for (key, fname) in fnames.items()\n",
    "})\n",
    "\n",
    "# data.to_csv(r'../Data/latest data.txt', sep=';')\n"
   ]
  },
  {
   "cell_type": "code",
   "execution_count": 4,
   "metadata": {},
   "outputs": [],
   "source": [
    "wavelength = data['wavelength'].values\n",
    "UP = data['UP'].values\n",
    "NaPB = data['NaPB'].values\n",
    "TMAO_high = data[\"TMAO <75%\"].values\n",
    "TMAO_Dry = data['TMAO'].values\n",
    "PEG_Pure = data['PEG'].values\n"
   ]
  },
  {
   "cell_type": "code",
   "execution_count": 5,
   "metadata": {},
   "outputs": [],
   "source": [
    "TMAO_columns = [column for column in data.columns if ('TMAO' in column) and not (',' in column)]\n",
    "TMAO_columns = ['NaPB'] + TMAO_columns[:-2]\n",
    "TMAO = data[TMAO_columns]\n",
    "columns = [0 if column=='NaPB' else int(column[5:-1])/100 for column in TMAO.columns]\n",
    "TMAO.columns = columns\n"
   ]
  },
  {
   "cell_type": "code",
   "execution_count": 6,
   "metadata": {},
   "outputs": [],
   "source": [
    "PEG_columns = [column for column in data.columns if ('PEG' in column) and not (',' in column)]\n",
    "PEG_columns = ['NaPB'] + PEG_columns\n",
    "PEG = data[PEG_columns]\n",
    "columns = [0 if column=='NaPB' else 1 if column=='PEG' else int(column[4:-1])/100 for column in PEG.columns]\n",
    "PEG.columns = columns\n"
   ]
  },
  {
   "cell_type": "code",
   "execution_count": 7,
   "metadata": {},
   "outputs": [],
   "source": [
    "Below_columns = [column for column in data.columns if column.count(\",\")==1]\n",
    "Below = data[Below_columns]\n",
    "\n",
    "Above_columns = [column for column in data.columns if column.count(\",\")==2]\n",
    "Above = data[Above_columns]\n"
   ]
  },
  {
   "cell_type": "code",
   "execution_count": null,
   "metadata": {},
   "outputs": [],
   "source": []
  }
 ],
 "metadata": {
  "kernelspec": {
   "display_name": "Python 3 (ipykernel)",
   "language": "python",
   "name": "python3"
  },
  "language_info": {
   "codemirror_mode": {
    "name": "ipython",
    "version": 3
   },
   "file_extension": ".py",
   "mimetype": "text/x-python",
   "name": "python",
   "nbconvert_exporter": "python",
   "pygments_lexer": "ipython3",
   "version": "3.10.4"
  }
 },
 "nbformat": 4,
 "nbformat_minor": 4
}
