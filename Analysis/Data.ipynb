{
 "cells": [
  {
   "cell_type": "code",
   "execution_count": 1,
   "metadata": {},
   "outputs": [],
   "source": [
    "import numpy as np\n",
    "import pandas as pd"
   ]
  },
  {
   "cell_type": "markdown",
   "metadata": {},
   "source": [
    "# Data"
   ]
  },
  {
   "cell_type": "code",
   "execution_count": 2,
   "metadata": {},
   "outputs": [],
   "source": [
    "def import_spectrum(fname):\n",
    "    return pd.read_table('../Data/'+fname, sep=',', header=None).to_numpy().T"
   ]
  },
  {
   "cell_type": "code",
   "execution_count": 6,
   "metadata": {},
   "outputs": [],
   "source": [
    "data = pd.DataFrame(data={\n",
    "    \"lmabda, cm-1\"           :import_spectrum(\"2021-11-24_PEG-TMAO/air.dpt\")[0],\n",
    "    \"air\"                    :import_spectrum(\"2021-11-24_PEG-TMAO/air.dpt\")[1],\n",
    "    \"UP\"                     :import_spectrum(\"2021-11-24_PEG-TMAO/UP.dpt\")[1],\n",
    "    \"NaPB\"                   :import_spectrum(\"2022-01-19_PEG-TMAO/1M NaPB.dpt\")[1],\n",
    "    \"PEG 15%\"                :import_spectrum(\"2022-01-19_PEG-TMAO/15%PEG.dpt\")[1],\n",
    "    \"PEG 30%\"                :import_spectrum(\"2022-01-19_PEG-TMAO/30%PEG.dpt\")[1],\n",
    "    \"PEG 39%\"                :import_spectrum(\"2022-01-19_PEG-TMAO/39%PEG.dpt\")[1],\n",
    "    \"PEG 54%\"                :import_spectrum(\"2022-01-19_PEG-TMAO/54%PEG.dpt\")[1],\n",
    "    \"PEG 57%\"                :import_spectrum(\"2022-01-19_PEG-TMAO/57%PEG.dpt\")[1],\n",
    "    \"PEG 60%\"                :import_spectrum(\"2022-01-19_PEG-TMAO/60%PEG.dpt\")[1],\n",
    "    \"PEG 65%\"                :import_spectrum(\"2022-03-21_PEG-TMAO/PEG 65%.dpt\")[1],\n",
    "    \"PEG 70%\"                :import_spectrum(\"2022-03-21_PEG-TMAO/PEG 70%.dpt\")[1],\n",
    "    \"PEG 75%\"                :import_spectrum(\"2022-03-21_PEG-TMAO/PEG 75%.dpt\")[1],\n",
    "    \"PEG 80%\"                :import_spectrum(\"2021-11-24_PEG-TMAO/80%PEG.dpt\")[1],\n",
    "    \"PEG 85%\"                :import_spectrum(\"2022-03-21_PEG-TMAO/PEG 85%.dpt\")[1],\n",
    "    \"PEG 90%\"                :import_spectrum(\"2022-03-21_PEG-TMAO/PEG 90%.dpt\")[1],\n",
    "    \"PEG 95%\"                :import_spectrum(\"2022-03-21_PEG-TMAO/PEG 95%.dpt\")[1],\n",
    "    \"PEG\"                    :import_spectrum(\"2022-02-14_PEG-TMAO/PEG super pure.dpt\")[1],\n",
    "    \"TMAO 5%\"                :import_spectrum(\"2022-01-19_PEG-TMAO/5%TMAO.dpt\")[1],\n",
    "    \"TMAO 10%\"               :import_spectrum(\"2022-01-19_PEG-TMAO/10%TMAO.dpt\")[1],\n",
    "    \"TMAO 13%\"               :import_spectrum(\"2022-01-19_PEG-TMAO/13%TMAO.dpt\")[1],\n",
    "    \"TMAO 18%\"               :import_spectrum(\"2022-01-19_PEG-TMAO/18%TMAO.dpt\")[1],\n",
    "    \"TMAO 19%\"               :import_spectrum(\"2022-01-19_PEG-TMAO/19%TMAO.dpt\")[1],\n",
    "    \"TMAO 20%\"               :import_spectrum(\"2022-01-19_PEG-TMAO/20%TMAO.dpt\")[1],\n",
    "    \"TMAO 30%\"               :import_spectrum(\"2022-03-05_PEG-TMAO/TMAO 30%.dpt\")[1],\n",
    "    \"TMAO 40%\"               :import_spectrum(\"2022-03-05_PEG-TMAO/TMAO 40%.dpt\")[1],\n",
    "    \"TMAO 50%\"               :import_spectrum(\"2022-03-05_PEG-TMAO/TMAO 50%.dpt\")[1],\n",
    "    \"TMAO 58%\"               :import_spectrum(\"2022-03-05_PEG-TMAO/TMAO 58%.dpt\")[1],\n",
    "    \"TMAO 60%\"               :import_spectrum(\"2021-11-24_PEG-TMAO/60%TMAO.dpt\")[1],\n",
    "    \"TMAO <75%\"              :import_spectrum(\"2022-03-05_PEG-TMAO/TMAO high.dpt\")[1],\n",
    "    \"TMAO\"                   :import_spectrum(\"2022-02-16_PEG-TMAO/TMAO.dpt\")[1],\n",
    "    \"TMAO 5%, PEG 15%\"       :import_spectrum(\"2021-11-24_PEG-TMAO/5%TMAO, 15%PEG.dpt\")[1],\n",
    "    \"TMAO 10%, PEG 30%\"      :import_spectrum(\"2021-11-24_PEG-TMAO/10%TMAO, 30%PEG.dpt\")[1],\n",
    "    \"TMAO 13%, PEG 39%\"      :import_spectrum(\"2021-11-24_PEG-TMAO/13%TMAO, 39%PEG.dpt\")[1],\n",
    "    \"TMAO 18%, PEG 54%, down\":import_spectrum(\"2021-11-24_PEG-TMAO/18%TMAO, 54%PEG, down.dpt\")[1],\n",
    "    \"TMAO 18%, PEG 54%, up\"  :import_spectrum(\"2022-02-14_PEG-TMAO/TMAO 18%, PEG 54%, up.dpt\")[1],\n",
    "    \"TMAO 19%, PEG 57%, down\":import_spectrum(\"2021-11-24_PEG-TMAO/19%TMAO, 57%PEG, down.dpt\")[1],\n",
    "    \"TMAO 19%, PEG 57%, up\"  :import_spectrum(\"2021-11-24_PEG-TMAO/19%TMAO, 57%PEG, up.dpt\")[1],\n",
    "    \"TMAO 20%, PEG 60%, down\":import_spectrum(\"2021-11-24_PEG-TMAO/20%TMAO, 60%PEG, down.dpt\")[1],\n",
    "    \"TMAO 20%, PEG 60%, up\"  :import_spectrum(\"2021-11-24_PEG-TMAO/20%TMAO, 60%PEG, up.dpt\")[1]\n",
    "})\n",
    "data.to_csv(r'../Data/latest data.txt', sep=';')\n",
    "data.to_csv(r'G:/My Drive/Colab Notebooks/latest data.txt', sep=';')"
   ]
  },
  {
   "cell_type": "code",
   "execution_count": 4,
   "metadata": {},
   "outputs": [],
   "source": [
    "Lambda = data[\"lmabda, cm-1\"].to_numpy()\n",
    "UP        = data[\"UP\"].to_numpy()\n",
    "NaPB      = data[\"NaPB\"].to_numpy()\n",
    "TMAO_Dry  = data[\"TMAO\"].to_numpy()\n",
    "PEG_Pure  = data[\"PEG\"].to_numpy()\n",
    "\n",
    "TMAO = np.array([NaPB,\n",
    "                 data[\"TMAO 5%\"].to_numpy(),\n",
    "                 data[\"TMAO 10%\"].to_numpy(),\n",
    "                 data[\"TMAO 13%\"].to_numpy(),\n",
    "                 data[\"TMAO 18%\"].to_numpy(),\n",
    "                 data[\"TMAO 19%\"].to_numpy(),\n",
    "                 data[\"TMAO 20%\"].to_numpy(),\n",
    "                 data[\"TMAO 30%\"].to_numpy(),\n",
    "                 data[\"TMAO 40%\"].to_numpy(),\n",
    "                 data[\"TMAO 50%\"].to_numpy(),\n",
    "                 data[\"TMAO 58%\"].to_numpy(),\n",
    "                 data[\"TMAO 60%\"].to_numpy()])\n",
    "TMAO_high = data[\"TMAO <75%\"].to_numpy()\n",
    "n_TMAO = np.array([0, .05, .10, .13, .18, .19, .20, .30, .40, .50, .58, .60])\n",
    "\n",
    "PEG = np.array([NaPB,\n",
    "                data[\"PEG 15%\"].to_numpy(),\n",
    "                data[\"PEG 30%\"].to_numpy(),\n",
    "                data[\"PEG 39%\"].to_numpy(),\n",
    "                data[\"PEG 54%\"].to_numpy(),\n",
    "                data[\"PEG 57%\"].to_numpy(),\n",
    "                data[\"PEG 60%\"].to_numpy(),\n",
    "                data[\"PEG 65%\"].to_numpy(),\n",
    "                data[\"PEG 70%\"].to_numpy(),\n",
    "                data[\"PEG 75%\"].to_numpy(),\n",
    "                data[\"PEG 80%\"].to_numpy(),\n",
    "                data[\"PEG 85%\"].to_numpy(),\n",
    "                data[\"PEG 90%\"].to_numpy(),\n",
    "                data[\"PEG 95%\"].to_numpy(),\n",
    "                PEG_Pure])\n",
    "n_PEG = np.array([0, .15, .30, .39, .54, .57, .60, .65, .70, .75, .80, .85, .90, .95, 1.00])\n",
    "\n",
    "Below = np.array([data[\"TMAO 5%, PEG 15%\"].to_numpy(),\n",
    "                  data[\"TMAO 10%, PEG 30%\"].to_numpy(),\n",
    "                  data[\"TMAO 13%, PEG 39%\"].to_numpy()])\n",
    "n_Below = np.array([[.80, .05, .15], [.60, .10, .30], [.48, .13, .39]]).T\n",
    "\n",
    "\n",
    "Above = np.array([data[\"TMAO 20%, PEG 60%, down\"].to_numpy(),\n",
    "                  data[\"TMAO 19%, PEG 57%, down\"].to_numpy(),\n",
    "                  data[\"TMAO 18%, PEG 54%, down\"].to_numpy(),\n",
    "                  data[\"TMAO 18%, PEG 54%, up\"].to_numpy(),\n",
    "                  data[\"TMAO 19%, PEG 57%, up\"].to_numpy(),\n",
    "                  data[\"TMAO 20%, PEG 60%, up\"].to_numpy()])\n",
    "n_Above = np.array([[.20, .20, .60], [.24, .19, .57], [.28, .18, .54], [.28, .18, .54], [.24, .19, .57], [.20, .20, .60]]).T"
   ]
  },
  {
   "cell_type": "code",
   "execution_count": null,
   "metadata": {},
   "outputs": [],
   "source": []
  }
 ],
 "metadata": {
  "kernelspec": {
   "display_name": "Python 3 (ipykernel)",
   "language": "python",
   "name": "python3"
  },
  "language_info": {
   "codemirror_mode": {
    "name": "ipython",
    "version": 3
   },
   "file_extension": ".py",
   "mimetype": "text/x-python",
   "name": "python",
   "nbconvert_exporter": "python",
   "pygments_lexer": "ipython3",
   "version": "3.10.4"
  }
 },
 "nbformat": 4,
 "nbformat_minor": 4
}
